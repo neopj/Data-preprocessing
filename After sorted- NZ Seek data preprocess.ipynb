{
 "cells": [
  {
   "cell_type": "markdown",
   "id": "c0a9f79e",
   "metadata": {},
   "source": [
    "# To create a moudle that preprocess data from NZ seek\n",
    "\n",
    "\n",
    "###     6 Files contain:\n",
    "       . NZ_Admin_JOBS.xlsx \n",
    "       . NZ_Banking_JOBS.xlsx\n",
    "       . NZ_CEO_JOBS.xlsx\n",
    "       . NZ_CommunityServices_JOBS.xlsx\n",
    "       . NZ_Construction_JOBS.xlsx\n",
    "       . NZ_Design_JOBS.xlsx\n",
    "       \n",
    "\n",
    "###      Questions need to be cleaned:       \n",
    "\n",
    "       "
   ]
  },
  {
   "cell_type": "markdown",
   "id": "64683ac5",
   "metadata": {},
   "source": [
    "## import packages"
   ]
  },
  {
   "cell_type": "code",
   "execution_count": null,
   "id": "836f3239",
   "metadata": {},
   "outputs": [],
   "source": [
    "import pandas as pd\n",
    "import re\n",
    "import pandas.io.common"
   ]
  },
  {
   "cell_type": "markdown",
   "id": "031ff727",
   "metadata": {},
   "source": [
    "## Load excel"
   ]
  },
  {
   "cell_type": "code",
   "execution_count": 1,
   "id": "cb94f04f",
   "metadata": {},
   "outputs": [],
   "source": [
    "def load_file(file):\n",
    "    try:\n",
    "        df = pd.read_excel(file)\n",
    "    except pandas.io.common.EmptyDataError:\n",
    "        print(file + \"is empty.\")\n",
    "    return df"
   ]
  },
  {
   "cell_type": "markdown",
   "id": "ad7ee7f9",
   "metadata": {},
   "source": [
    "## Main"
   ]
  },
  {
   "cell_type": "code",
   "execution_count": 2,
   "id": "f7039ee8",
   "metadata": {},
   "outputs": [
    {
     "ename": "NameError",
     "evalue": "name 'pandas' is not defined",
     "output_type": "error",
     "traceback": [
      "\u001b[0;31m---------------------------------------------------------------------------\u001b[0m",
      "\u001b[0;31mNameError\u001b[0m                                 Traceback (most recent call last)",
      "Input \u001b[0;32mIn [1]\u001b[0m, in \u001b[0;36mload_file\u001b[0;34m(file)\u001b[0m\n\u001b[1;32m      2\u001b[0m \u001b[38;5;28;01mtry\u001b[39;00m:\n\u001b[0;32m----> 3\u001b[0m     df \u001b[38;5;241m=\u001b[39m \u001b[43mpd\u001b[49m\u001b[38;5;241m.\u001b[39mread_excel(file)\n\u001b[1;32m      4\u001b[0m \u001b[38;5;28;01mexcept\u001b[39;00m pandas\u001b[38;5;241m.\u001b[39mio\u001b[38;5;241m.\u001b[39mcommon\u001b[38;5;241m.\u001b[39mEmptyDataError:\n",
      "\u001b[0;31mNameError\u001b[0m: name 'pd' is not defined",
      "\nDuring handling of the above exception, another exception occurred:\n",
      "\u001b[0;31mNameError\u001b[0m                                 Traceback (most recent call last)",
      "Input \u001b[0;32mIn [2]\u001b[0m, in \u001b[0;36m<cell line: 1>\u001b[0;34m()\u001b[0m\n\u001b[0;32m----> 1\u001b[0m \u001b[43mload_file\u001b[49m\u001b[43m(\u001b[49m\u001b[38;5;124;43m'\u001b[39;49m\u001b[38;5;124;43mNZ_Admin_JOBS.xlsx\u001b[39;49m\u001b[38;5;124;43m'\u001b[39;49m\u001b[43m)\u001b[49m\n",
      "Input \u001b[0;32mIn [1]\u001b[0m, in \u001b[0;36mload_file\u001b[0;34m(file)\u001b[0m\n\u001b[1;32m      2\u001b[0m \u001b[38;5;28;01mtry\u001b[39;00m:\n\u001b[1;32m      3\u001b[0m     df \u001b[38;5;241m=\u001b[39m pd\u001b[38;5;241m.\u001b[39mread_excel(file)\n\u001b[0;32m----> 4\u001b[0m \u001b[38;5;28;01mexcept\u001b[39;00m \u001b[43mpandas\u001b[49m\u001b[38;5;241m.\u001b[39mio\u001b[38;5;241m.\u001b[39mcommon\u001b[38;5;241m.\u001b[39mEmptyDataError:\n\u001b[1;32m      5\u001b[0m     \u001b[38;5;28mprint\u001b[39m(file \u001b[38;5;241m+\u001b[39m \u001b[38;5;124m\"\u001b[39m\u001b[38;5;124mis empty.\u001b[39m\u001b[38;5;124m\"\u001b[39m)\n\u001b[1;32m      6\u001b[0m \u001b[38;5;28;01mreturn\u001b[39;00m df\n",
      "\u001b[0;31mNameError\u001b[0m: name 'pandas' is not defined"
     ]
    }
   ],
   "source": [
    "load_file('NZ_Admin_JOBS.xlsx')"
   ]
  },
  {
   "cell_type": "markdown",
   "id": "a584404c",
   "metadata": {},
   "source": [
    "## Overview data"
   ]
  },
  {
   "cell_type": "code",
   "execution_count": null,
   "id": "0ce891c6",
   "metadata": {},
   "outputs": [],
   "source": [
    "df.head(5)"
   ]
  },
  {
   "cell_type": "code",
   "execution_count": null,
   "id": "8bab74ec",
   "metadata": {},
   "outputs": [],
   "source": [
    "df.info()"
   ]
  }
 ],
 "metadata": {
  "kernelspec": {
   "display_name": "Python 3 (ipykernel)",
   "language": "python",
   "name": "python3"
  },
  "language_info": {
   "codemirror_mode": {
    "name": "ipython",
    "version": 3
   },
   "file_extension": ".py",
   "mimetype": "text/x-python",
   "name": "python",
   "nbconvert_exporter": "python",
   "pygments_lexer": "ipython3",
   "version": "3.9.13"
  }
 },
 "nbformat": 4,
 "nbformat_minor": 5
}
